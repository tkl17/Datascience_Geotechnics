{
 "cells": [
  {
   "cell_type": "markdown",
   "id": "92350ffa",
   "metadata": {},
   "source": [
    "# Monte Carlo example problem\n",
    "\n",
    "A vertical cut in clay with the following properties for unit weight and undrained shear strength, both of which are normally distributed.\n",
    "\n",
    " $$\\mu_\\gamma = 16 kN/m^3$$ \n",
    " $$\\sigma_\\gamma = 1.5 kN/m^3$$ \n",
    " $$\\mu_{s_u} = 40 kPa$$ \n",
    " $$\\sigma_{s_u} = 10 kPa$$ \n",
    " $$\\rho_{\\gamma,s_u} = 0$$\n",
    "\n",
    "We will generate N random samples of $\\gamma$ and $s_u$, and compute the margin of safety for each realisation, M. The probability of failure is then computed as\n",
    "\n",
    "$$p_f=\\sum_{i=1}^N \\frac{F_i}{N}$$\n",
    "\n",
    "where\n",
    "\n",
    "\\begin{array}{c}\n",
    "\tF_i=1 \\quad if \\quad M_i<1\\\\\n",
    "\tF_i=0 \\quad if \\quad M_i\\ge1\n",
    "\\end{array}"
   ]
  },
  {
   "cell_type": "code",
   "execution_count": 1,
   "id": "bddab192",
   "metadata": {},
   "outputs": [
    {
     "name": "stdout",
     "output_type": "stream",
     "text": [
      "pf = 0.009259999999999791\n"
     ]
    }
   ],
   "source": [
    "import numpy as np\n",
    "\n",
    "mu_gamma = 16\n",
    "sigma_gamma = 1.5\n",
    "mu_su = 40\n",
    "sigma_su = 10\n",
    "N = 100000\n",
    "H=4\n",
    "L=2*H/np.sqrt(2)\n",
    "\n",
    "gamma = np.random.normal(mu_gamma,sigma_gamma,N)\n",
    "su=np.random.normal(mu_su,sigma_su,N)\n",
    "\n",
    "pf=0\n",
    "\n",
    "for g,s in zip(gamma,su):\n",
    "    W = 1/2*g*H**2\n",
    "    tau = W/np.sqrt(2)/L\n",
    "    m = s-tau\n",
    "    if (m<0):\n",
    "        pf += 1/N\n",
    "        \n",
    "print('pf = ' + str(pf))"
   ]
  },
  {
   "cell_type": "code",
   "execution_count": 2,
   "id": "b575b611",
   "metadata": {},
   "outputs": [
    {
     "name": "stdout",
     "output_type": "stream",
     "text": [
      "Hello World\n"
     ]
    }
   ],
   "source": [
    "variable = \"Hello\"\n",
    "print(variable + \" World\")"
   ]
  },
  {
   "cell_type": "code",
   "execution_count": null,
   "id": "bb1f286d",
   "metadata": {},
   "outputs": [],
   "source": []
  }
 ],
 "metadata": {
  "kernelspec": {
   "display_name": "Python 3.9.12 ('base')",
   "language": "python",
   "name": "python3"
  },
  "language_info": {
   "codemirror_mode": {
    "name": "ipython",
    "version": 3
   },
   "file_extension": ".py",
   "mimetype": "text/x-python",
   "name": "python",
   "nbconvert_exporter": "python",
   "pygments_lexer": "ipython3",
   "version": "3.9.12"
  },
  "vscode": {
   "interpreter": {
    "hash": "3e804e925cb5718dfbae792dc3d4e3d01522f7bbb51b9682a97004d38bc2399c"
   }
  }
 },
 "nbformat": 4,
 "nbformat_minor": 5
}
